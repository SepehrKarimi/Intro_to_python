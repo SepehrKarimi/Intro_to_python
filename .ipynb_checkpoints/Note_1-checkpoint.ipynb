{
 "cells": [
  {
   "cell_type": "markdown",
   "id": "dce3f4b9",
   "metadata": {},
   "source": [
    "<center><h1> An Introduction to Python Basics</h1></center>\n"
   ]
  },
  {
   "cell_type": "markdown",
   "id": "04b7363e",
   "metadata": {},
   "source": [
    "<h2>Arithmetic Operators:</h2>\n",
    "<h4>\n",
    "1)Addition: +\n",
    "<br><br>\n",
    "2)Subtraction: -\n",
    "    \n",
    "3)Multiplication: *\n",
    "\n",
    "4)Division: /\n",
    "    \n",
    "5)Mod (the remainder after dividing): %\n",
    "\n",
    "6)Exponentiation (note that ^ does not do this operation, as you might have seen in other languages): **\n",
    "\n",
    "7)Divides and rounds down to the nearest integer: //\n",
    "</h4>"
   ]
  },
  {
   "cell_type": "code",
   "execution_count": 1,
   "id": "550b9b8d",
   "metadata": {},
   "outputs": [
    {
     "name": "stdout",
     "output_type": "stream",
     "text": [
      "20.666666666666668\n"
     ]
    }
   ],
   "source": [
    "print((12 + 34 + 16)/3)"
   ]
  },
  {
   "cell_type": "code",
   "execution_count": 2,
   "id": "913bd038",
   "metadata": {},
   "outputs": [
    {
     "name": "stdout",
     "output_type": "stream",
     "text": [
      "20\n"
     ]
    }
   ],
   "source": [
    "print((12 + 34 + 16)//3)"
   ]
  },
  {
   "cell_type": "code",
   "execution_count": 1,
   "id": "9d76c98c",
   "metadata": {},
   "outputs": [
    {
     "name": "stdout",
     "output_type": "stream",
     "text": [
      "144\n"
     ]
    }
   ],
   "source": [
    "print(12 ** 2)"
   ]
  },
  {
   "cell_type": "markdown",
   "id": "b93610e1",
   "metadata": {},
   "source": [
    "## Variables and Assignment Operators"
   ]
  },
  {
   "cell_type": "markdown",
   "id": "ab827ae3",
   "metadata": {},
   "source": [
    "<p> unlike in math, in python the equal sign(=) doesn't mean two sides are equal. instead x=y reads value of the right side and assigns it to the left side</p>\n",
    "x = 3<br>\n",
    "y = 4<br>\n",
    "z = 5<br>\n",
    "or<br>\n",
    "x, y, z = 3, 4, 5"
   ]
  },
  {
   "cell_type": "markdown",
   "id": "06a9f285",
   "metadata": {},
   "source": [
    "Variable names should be descriptive of the value they hold but there are a few rules you'd have to watch out:\n",
    "\n",
    "### 1)Only use ordinary letters, numbers and underscores in your variable names. They can’t have spaces, and need to start with a letter or underscore.\n",
    "\n",
    "### 2) You can’t use reserved words or built-in identifiers\n",
    "<center><img src='assets/reserved_keywords.png' width=50%></center>\n",
    "<h3>3) The pythonic way to name variables is to use all lowercase letters and underscores to separate words</h3>"
   ]
  },
  {
   "cell_type": "code",
   "execution_count": 6,
   "id": "a5f40143",
   "metadata": {},
   "outputs": [
    {
     "ename": "SyntaxError",
     "evalue": "invalid syntax (3577230325.py, line 1)",
     "output_type": "error",
     "traceback": [
      "\u001b[1;36m  Cell \u001b[1;32mIn[6], line 1\u001b[1;36m\u001b[0m\n\u001b[1;33m    and = 3247\u001b[0m\n\u001b[1;37m    ^\u001b[0m\n\u001b[1;31mSyntaxError\u001b[0m\u001b[1;31m:\u001b[0m invalid syntax\n"
     ]
    }
   ],
   "source": [
    "car_length = 3247"
   ]
  },
  {
   "cell_type": "code",
   "execution_count": 12,
   "id": "5c6efeb9",
   "metadata": {},
   "outputs": [
    {
     "name": "stdout",
     "output_type": "stream",
     "text": [
      "1.0\n",
      "4.0\n"
     ]
    }
   ],
   "source": [
    "a = 3\n",
    "a /= 3\n",
    "print(a)\n",
    "a = a + 3\n",
    "print(a)"
   ]
  },
  {
   "cell_type": "markdown",
   "id": "7b39b086",
   "metadata": {},
   "source": [
    "# Data types:\n",
    "<h4>\n",
    "There are two Python data types that could be used for numeric values:<br><br>\n",
    "<ol>\n",
    "    <li>int</li><br><br>\n",
    "<li>\n",
    "    float</li><br><br>\n",
    "you can check the data type of variables with type() function\n",
    "</h4>"
   ]
  },
  {
   "cell_type": "code",
   "execution_count": 15,
   "id": "54b50269",
   "metadata": {},
   "outputs": [
    {
     "name": "stdout",
     "output_type": "stream",
     "text": [
      "5\n",
      "4\n",
      "<class 'int'>\n",
      "<class 'int'>\n"
     ]
    }
   ],
   "source": [
    "x = int(5.4)\n",
    "print(x)\n",
    "y = 4\n",
    "print(y)\n",
    "print(type(x))\n",
    "print(type(y))"
   ]
  },
  {
   "cell_type": "code",
   "execution_count": 16,
   "id": "1a5cf00c",
   "metadata": {},
   "outputs": [
    {
     "name": "stdout",
     "output_type": "stream",
     "text": [
      "<class 'float'>\n",
      "<class 'int'>\n",
      "<class 'float'>\n"
     ]
    }
   ],
   "source": [
    "x = 3.3\n",
    "y = 2\n",
    "print(type(x))\n",
    "print(type(y))\n",
    "z = x * y\n",
    "print(type(z))"
   ]
  },
  {
   "cell_type": "markdown",
   "id": "081e5cb8",
   "metadata": {},
   "source": [
    "<b>3. Bool</b>\n",
    "<h4>The bool data type holds one of the values True or False, which are often encoded as 1 or 0, respectively</h4><br>\n",
    "There are 6 comparison operators that are common to see in order to obtain a bool value:\n",
    "<ol>\n",
    "    <li> < </li>\n",
    "    <li> > </li>\n",
    "    <li> <= </li>\n",
    "    <li> >= </li>\n",
    "    <li> == </li>\n",
    "    <li> != </li>\n",
    "</ol>"
   ]
  },
  {
   "cell_type": "code",
   "execution_count": 19,
   "id": "c8355289",
   "metadata": {},
   "outputs": [
    {
     "name": "stdout",
     "output_type": "stream",
     "text": [
      "True\n",
      "<class 'bool'>\n",
      "True\n"
     ]
    }
   ],
   "source": [
    "x = 44 > 43\n",
    "print(x)\n",
    "print(type(x))\n",
    "\n",
    "print(1 != 0)"
   ]
  },
  {
   "cell_type": "code",
   "execution_count": 33,
   "id": "d8a5ae0c",
   "metadata": {},
   "outputs": [
    {
     "name": "stdout",
     "output_type": "stream",
     "text": [
      "<class 'str'>\n",
      "I am Sepehr And My surename is Karimi\n",
      "I am SepehrI am SepehrI am SepehrI am Sepehr\n"
     ]
    }
   ],
   "source": [
    "x = 'I am Sepehr'\n",
    "print(type(x))\n",
    "y = \" And My surename is Karimi\"\n",
    "print(x + y)\n",
    "z = x * 4\n",
    "print(z)"
   ]
  },
  {
   "cell_type": "code",
   "execution_count": 34,
   "id": "65dd5472",
   "metadata": {},
   "outputs": [
    {
     "name": "stdout",
     "output_type": "stream",
     "text": [
      "4\n"
     ]
    }
   ],
   "source": [
    "x = \"Name\"\n",
    "print(len(x))"
   ]
  },
  {
   "cell_type": "code",
   "execution_count": null,
   "id": "13a3159a",
   "metadata": {},
   "outputs": [],
   "source": []
  }
 ],
 "metadata": {
  "kernelspec": {
   "display_name": "Python 3 (ipykernel)",
   "language": "python",
   "name": "python3"
  },
  "language_info": {
   "codemirror_mode": {
    "name": "ipython",
    "version": 3
   },
   "file_extension": ".py",
   "mimetype": "text/x-python",
   "name": "python",
   "nbconvert_exporter": "python",
   "pygments_lexer": "ipython3",
   "version": "3.11.3"
  }
 },
 "nbformat": 4,
 "nbformat_minor": 5
}
